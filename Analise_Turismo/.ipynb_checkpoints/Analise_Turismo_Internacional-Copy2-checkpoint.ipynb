{
 "cells": [
  {
   "cell_type": "markdown",
   "id": "c11e82cc",
   "metadata": {},
   "source": [
    "# Análise: Chegada de Turistas Internacionais\n",
    "\n",
    "## Resumo\n",
    "O presente estudo tem como finalidade, analisar a chegada de turistas internacionais e fazer uma correlação com os impactos gerados pela pandemia da COVID19. \n",
    "\n",
    "Este trabalho faz parte do projeto de conclusçao do modulo 3: Tecnicas de Progação, oferecido pela Let's Code from Ada para o programa Diversidade Tech, em parceria com a Suzano. \n",
    "\n",
    "Faremos uma análise da chegada de turistas internacionais nos estados do nordeste, vindos por via aérea e marítima, durantes os anos de 2018, 2019, 2020 e 2021. Cujo efeito da diminuição está correlacionado com o período da pandemia. "
   ]
  },
  {
   "cell_type": "markdown",
   "id": "f2bb5c18",
   "metadata": {},
   "source": [
    "## Importação de Bibliotecas"
   ]
  },
  {
   "cell_type": "code",
   "execution_count": 67,
   "id": "0669a588",
   "metadata": {},
   "outputs": [],
   "source": [
    "import pandas as pd\n",
    "\n",
    "import plotly.express as px\n",
    "import plotly.graph_objects as go\n",
    "import plotly.offline as py\n",
    "from plotly import subplots\n",
    "\n",
    "import matplotlib.pyplot as plt"
   ]
  },
  {
   "cell_type": "markdown",
   "id": "5c967c33",
   "metadata": {},
   "source": [
    "## Dados do Turismo"
   ]
  },
  {
   "cell_type": "code",
   "execution_count": 51,
   "id": "981ce896",
   "metadata": {},
   "outputs": [],
   "source": [
    "# Leitura das bases da chegada de turistas internacionais no nordeste\n",
    "\n",
    "turismo_18 = pd.read_csv('chegada-turistas-internacionais-nordeste_2018.csv')\n",
    "turismo_19 = pd.read_csv('chegada-turistas-internacionais-nordeste_2019.csv')\n",
    "turismo_20 = pd.read_csv('chegada-turistas-internacionais-nordeste_2020.csv')\n",
    "turismo_21 = pd.read_csv('chegada-turistas-internacionais-nordeste_2021.csv')"
   ]
  },
  {
   "cell_type": "code",
   "execution_count": 138,
   "id": "d134a9eb",
   "metadata": {
    "scrolled": true
   },
   "outputs": [
    {
     "data": {
      "text/html": [
       "<div>\n",
       "<style scoped>\n",
       "    .dataframe tbody tr th:only-of-type {\n",
       "        vertical-align: middle;\n",
       "    }\n",
       "\n",
       "    .dataframe tbody tr th {\n",
       "        vertical-align: top;\n",
       "    }\n",
       "\n",
       "    .dataframe thead th {\n",
       "        text-align: right;\n",
       "    }\n",
       "</style>\n",
       "<table border=\"1\" class=\"dataframe\">\n",
       "  <thead>\n",
       "    <tr style=\"text-align: right;\">\n",
       "      <th></th>\n",
       "      <th>Continente</th>\n",
       "      <th>cod continente</th>\n",
       "      <th>País</th>\n",
       "      <th>cod pais</th>\n",
       "      <th>UF</th>\n",
       "      <th>cod uf</th>\n",
       "      <th>Via</th>\n",
       "      <th>cod via</th>\n",
       "      <th>ano</th>\n",
       "      <th>Mês</th>\n",
       "      <th>cod mes</th>\n",
       "      <th>Chegadas</th>\n",
       "    </tr>\n",
       "  </thead>\n",
       "  <tbody>\n",
       "    <tr>\n",
       "      <th>0</th>\n",
       "      <td>África</td>\n",
       "      <td>1</td>\n",
       "      <td>África do Sul</td>\n",
       "      <td>2</td>\n",
       "      <td>Bahia</td>\n",
       "      <td>5</td>\n",
       "      <td>Aérea</td>\n",
       "      <td>1</td>\n",
       "      <td>2018</td>\n",
       "      <td>janeiro</td>\n",
       "      <td>1</td>\n",
       "      <td>1</td>\n",
       "    </tr>\n",
       "    <tr>\n",
       "      <th>1</th>\n",
       "      <td>África</td>\n",
       "      <td>1</td>\n",
       "      <td>Angola</td>\n",
       "      <td>6</td>\n",
       "      <td>Bahia</td>\n",
       "      <td>5</td>\n",
       "      <td>Aérea</td>\n",
       "      <td>1</td>\n",
       "      <td>2018</td>\n",
       "      <td>janeiro</td>\n",
       "      <td>1</td>\n",
       "      <td>2</td>\n",
       "    </tr>\n",
       "    <tr>\n",
       "      <th>2</th>\n",
       "      <td>África</td>\n",
       "      <td>1</td>\n",
       "      <td>Cabo Verde</td>\n",
       "      <td>35</td>\n",
       "      <td>Bahia</td>\n",
       "      <td>5</td>\n",
       "      <td>Aérea</td>\n",
       "      <td>1</td>\n",
       "      <td>2018</td>\n",
       "      <td>janeiro</td>\n",
       "      <td>1</td>\n",
       "      <td>0</td>\n",
       "    </tr>\n",
       "    <tr>\n",
       "      <th>3</th>\n",
       "      <td>África</td>\n",
       "      <td>1</td>\n",
       "      <td>Egito</td>\n",
       "      <td>60</td>\n",
       "      <td>Bahia</td>\n",
       "      <td>5</td>\n",
       "      <td>Aérea</td>\n",
       "      <td>1</td>\n",
       "      <td>2018</td>\n",
       "      <td>janeiro</td>\n",
       "      <td>1</td>\n",
       "      <td>0</td>\n",
       "    </tr>\n",
       "    <tr>\n",
       "      <th>4</th>\n",
       "      <td>África</td>\n",
       "      <td>1</td>\n",
       "      <td>Gana</td>\n",
       "      <td>77</td>\n",
       "      <td>Bahia</td>\n",
       "      <td>5</td>\n",
       "      <td>Aérea</td>\n",
       "      <td>1</td>\n",
       "      <td>2018</td>\n",
       "      <td>janeiro</td>\n",
       "      <td>1</td>\n",
       "      <td>0</td>\n",
       "    </tr>\n",
       "    <tr>\n",
       "      <th>...</th>\n",
       "      <td>...</td>\n",
       "      <td>...</td>\n",
       "      <td>...</td>\n",
       "      <td>...</td>\n",
       "      <td>...</td>\n",
       "      <td>...</td>\n",
       "      <td>...</td>\n",
       "      <td>...</td>\n",
       "      <td>...</td>\n",
       "      <td>...</td>\n",
       "      <td>...</td>\n",
       "      <td>...</td>\n",
       "    </tr>\n",
       "    <tr>\n",
       "      <th>31243</th>\n",
       "      <td>Continente não especificado</td>\n",
       "      <td>8</td>\n",
       "      <td>Países não especificados</td>\n",
       "      <td>999</td>\n",
       "      <td>Rio Grande do Norte</td>\n",
       "      <td>20</td>\n",
       "      <td>Marítima</td>\n",
       "      <td>3</td>\n",
       "      <td>2021</td>\n",
       "      <td>agosto</td>\n",
       "      <td>8</td>\n",
       "      <td>0</td>\n",
       "    </tr>\n",
       "    <tr>\n",
       "      <th>31244</th>\n",
       "      <td>Continente não especificado</td>\n",
       "      <td>8</td>\n",
       "      <td>Países não especificados</td>\n",
       "      <td>999</td>\n",
       "      <td>Rio Grande do Norte</td>\n",
       "      <td>20</td>\n",
       "      <td>Marítima</td>\n",
       "      <td>3</td>\n",
       "      <td>2021</td>\n",
       "      <td>setembro</td>\n",
       "      <td>9</td>\n",
       "      <td>0</td>\n",
       "    </tr>\n",
       "    <tr>\n",
       "      <th>31245</th>\n",
       "      <td>Continente não especificado</td>\n",
       "      <td>8</td>\n",
       "      <td>Países não especificados</td>\n",
       "      <td>999</td>\n",
       "      <td>Rio Grande do Norte</td>\n",
       "      <td>20</td>\n",
       "      <td>Marítima</td>\n",
       "      <td>3</td>\n",
       "      <td>2021</td>\n",
       "      <td>outubro</td>\n",
       "      <td>10</td>\n",
       "      <td>0</td>\n",
       "    </tr>\n",
       "    <tr>\n",
       "      <th>31246</th>\n",
       "      <td>Continente não especificado</td>\n",
       "      <td>8</td>\n",
       "      <td>Países não especificados</td>\n",
       "      <td>999</td>\n",
       "      <td>Rio Grande do Norte</td>\n",
       "      <td>20</td>\n",
       "      <td>Marítima</td>\n",
       "      <td>3</td>\n",
       "      <td>2021</td>\n",
       "      <td>novembro</td>\n",
       "      <td>11</td>\n",
       "      <td>0</td>\n",
       "    </tr>\n",
       "    <tr>\n",
       "      <th>31247</th>\n",
       "      <td>Continente não especificado</td>\n",
       "      <td>8</td>\n",
       "      <td>Países não especificados</td>\n",
       "      <td>999</td>\n",
       "      <td>Rio Grande do Norte</td>\n",
       "      <td>20</td>\n",
       "      <td>Marítima</td>\n",
       "      <td>3</td>\n",
       "      <td>2021</td>\n",
       "      <td>dezembro</td>\n",
       "      <td>12</td>\n",
       "      <td>0</td>\n",
       "    </tr>\n",
       "  </tbody>\n",
       "</table>\n",
       "<p>31248 rows × 12 columns</p>\n",
       "</div>"
      ],
      "text/plain": [
       "                        Continente  cod continente                      País  \\\n",
       "0                           África               1             África do Sul   \n",
       "1                           África               1                    Angola   \n",
       "2                           África               1                Cabo Verde   \n",
       "3                           África               1                     Egito   \n",
       "4                           África               1                      Gana   \n",
       "...                            ...             ...                       ...   \n",
       "31243  Continente não especificado               8  Países não especificados   \n",
       "31244  Continente não especificado               8  Países não especificados   \n",
       "31245  Continente não especificado               8  Países não especificados   \n",
       "31246  Continente não especificado               8  Países não especificados   \n",
       "31247  Continente não especificado               8  Países não especificados   \n",
       "\n",
       "       cod pais                   UF  cod uf       Via  cod via   ano  \\\n",
       "0             2                Bahia       5     Aérea        1  2018   \n",
       "1             6                Bahia       5     Aérea        1  2018   \n",
       "2            35                Bahia       5     Aérea        1  2018   \n",
       "3            60                Bahia       5     Aérea        1  2018   \n",
       "4            77                Bahia       5     Aérea        1  2018   \n",
       "...         ...                  ...     ...       ...      ...   ...   \n",
       "31243       999  Rio Grande do Norte      20  Marítima        3  2021   \n",
       "31244       999  Rio Grande do Norte      20  Marítima        3  2021   \n",
       "31245       999  Rio Grande do Norte      20  Marítima        3  2021   \n",
       "31246       999  Rio Grande do Norte      20  Marítima        3  2021   \n",
       "31247       999  Rio Grande do Norte      20  Marítima        3  2021   \n",
       "\n",
       "            Mês  cod mes  Chegadas  \n",
       "0       janeiro        1         1  \n",
       "1       janeiro        1         2  \n",
       "2       janeiro        1         0  \n",
       "3       janeiro        1         0  \n",
       "4       janeiro        1         0  \n",
       "...         ...      ...       ...  \n",
       "31243    agosto        8         0  \n",
       "31244  setembro        9         0  \n",
       "31245   outubro       10         0  \n",
       "31246  novembro       11         0  \n",
       "31247  dezembro       12         0  \n",
       "\n",
       "[31248 rows x 12 columns]"
      ]
     },
     "execution_count": 138,
     "metadata": {},
     "output_type": "execute_result"
    }
   ],
   "source": [
    "# Junção das bases com o merge\n",
    "\n",
    "turismo_18_19 = pd.merge(turismo_18, turismo_19, how='outer')\n",
    "turismo_20_21 = pd.merge(turismo_20, turismo_21, how='outer')\n",
    "turismo_18_19_20_21 = pd.merge(turismo_18_19, turismo_20_21, how='outer')\n",
    "turismo_18_19_20_21"
   ]
  },
  {
   "cell_type": "markdown",
   "id": "d16d3dc0",
   "metadata": {},
   "source": [
    "## Relacionando Elementos da Base"
   ]
  },
  {
   "cell_type": "code",
   "execution_count": 117,
   "id": "6abd40d0",
   "metadata": {},
   "outputs": [],
   "source": [
    "# Relação da chegada de turistas pelos estados do nordeste:\n",
    "chegada_estado = turismo_18_19_20_21.groupby(['UF'])['Chegadas'].sum().reset_index()\n",
    "\n",
    "# Relação da chegada de turistas por ano:\n",
    "chegada_ano = turismo_18_19_20_21.groupby(['ano'])['Chegadas'].sum().reset_index()\n",
    "\n",
    "# Relação da chegada de turistas pelos meses:\n",
    "chegada_mes = turismo_18_19_20_21.groupby(['cod mes', \n",
    "                                           'Mês'])['Chegadas'].sum().reset_index()\n",
    "\n",
    "# Relação da chegada de turistas por via de transporte:\n",
    "chegada_via = turismo_18_19_20_21.groupby(['Via'])['Chegadas'].sum().reset_index()\n",
    "\n",
    "# Relação da chegada de turistas pelos continentes:\n",
    "chegada_continente = turismo_18_19_20_21.groupby(['cod continente', \n",
    "                                    'Continente'])['Chegadas'].sum().reset_index()\n",
    "\n",
    "# Relação da chegada de turistas pelo país:\n",
    "chegada_pais = turismo_18_19_20_21.groupby(['País'])['Chegadas'].sum().reset_index()"
   ]
  },
  {
   "cell_type": "markdown",
   "id": "21050357",
   "metadata": {},
   "source": [
    "## Análise Gráfica"
   ]
  },
  {
   "cell_type": "code",
   "execution_count": 54,
   "id": "0d4ad412",
   "metadata": {},
   "outputs": [],
   "source": [
    "# Para garantir que nossos gráficos vão ser plotados \n",
    "# em todas as versões do Jupyter Notebook precisamos \n",
    "# rodar o comando abaixo:\n",
    "\n",
    "%matplotlib inline"
   ]
  },
  {
   "cell_type": "markdown",
   "id": "cad579ea",
   "metadata": {},
   "source": [
    "### _1_. Chegada de turistas em cada estado"
   ]
  },
  {
   "cell_type": "markdown",
   "id": "be2872aa",
   "metadata": {},
   "source": [
    "#### _1.1.1_. Plotando gráfico de barra com o Plotly:"
   ]
  },
  {
   "cell_type": "code",
   "execution_count": 143,
   "id": "1e988083",
   "metadata": {
    "scrolled": false
   },
   "outputs": [],
   "source": [
    "# gráfico de barra retratando a relção do número \n",
    "# total de turistas desembarcados em cada estado \n",
    "\n",
    "# fig = go.Figure()\n",
    "\n",
    "# fig.add_trace(go.Bar(\n",
    "#     x = chegada_estado['UF'], \n",
    "#     y = chegada_estado['Chegadas'],\n",
    "#     name = 'Chegada de Turistas por Estado'\n",
    "# ))\n",
    "\n",
    "# fig.show()"
   ]
  },
  {
   "cell_type": "markdown",
   "id": "7eec5e13",
   "metadata": {},
   "source": [
    "#### _1.1.2_. Plotando gráfico de pizza com o Plotly:"
   ]
  },
  {
   "cell_type": "code",
   "execution_count": 144,
   "id": "222135ea",
   "metadata": {
    "scrolled": true
   },
   "outputs": [],
   "source": [
    "# gráfico de pizza retratando o percentual do número\n",
    "# total de turistas desembarcados em cada estado \n",
    "\n",
    "# fig=px.pie(\n",
    "#     names= chegada_estado['UF'], \n",
    "#     values = chegada_estado['Chegadas']\n",
    "#     )\n",
    "# fig.show()"
   ]
  },
  {
   "cell_type": "markdown",
   "id": "9b18a2a0",
   "metadata": {},
   "source": [
    "#### _1.2_. Plotando gráfico com matplotlib"
   ]
  },
  {
   "cell_type": "code",
   "execution_count": 140,
   "id": "f959eb43",
   "metadata": {},
   "outputs": [
    {
     "data": {
      "image/png": "[encoded data removed]",
      "text/plain": [
       "<Figure size 432x288 with 1 Axes>"
      ]
     },
     "metadata": {
      "needs_background": "light"
     },
     "output_type": "display_data"
    }
   ],
   "source": [
    "# gráfico de barra retratando a relção do número \n",
    "# total de turistas desembarcados em cada estado \n",
    "\n",
    "chegada_estado.plot(\n",
    "    title='Chegada de Turistas Internacionais por Estado', \n",
    "    kind='bar', \n",
    "    color= ['#e74c3c'],\n",
    "    x ='UF', xlabel='', \n",
    "    y = ['Chegadas'], ylabel='');"
   ]
  },
  {
   "cell_type": "markdown",
   "id": "fabdf3b7",
   "metadata": {},
   "source": [
    "### _2_. Chegada de turistas no nordeste em cada ano"
   ]
  },
  {
   "cell_type": "code",
   "execution_count": 130,
   "id": "8c463ee9",
   "metadata": {},
   "outputs": [],
   "source": [
    "# Convertendo dados da colune 'ano' para string\n",
    "chegada_ano['ano'] = chegada_ano['ano'].astype(str)"
   ]
  },
  {
   "cell_type": "markdown",
   "id": "3fef729e",
   "metadata": {},
   "source": [
    "#### _2.1.1_. Plotando gráfico de barra com o Plotly:"
   ]
  },
  {
   "cell_type": "code",
   "execution_count": 145,
   "id": "c60f57bc",
   "metadata": {
    "scrolled": true
   },
   "outputs": [],
   "source": [
    "# gráfico de barra retratando a relção do número \n",
    "# total de turistas desembarcados por ano \n",
    "\n",
    "# fig = go.Figure()\n",
    "\n",
    "# fig.add_trace(go.Bar(\n",
    "#     x = chegada_ano['ano'], \n",
    "#     y = chegada_ano['Chegadas']\n",
    "# ))\n",
    "\n",
    "# fig.show()"
   ]
  },
  {
   "cell_type": "markdown",
   "id": "2e89cce7",
   "metadata": {},
   "source": [
    "#### _2.1.2_. Plotando gráfico de pizza com o Plotly:"
   ]
  },
  {
   "cell_type": "code",
   "execution_count": 146,
   "id": "214333e0",
   "metadata": {},
   "outputs": [],
   "source": [
    "# gráfico de pizza retratando o percentual do \n",
    "# número total de turistas desembarcados por ano\n",
    "\n",
    "# fig=px.pie(\n",
    "#     names= chegada_ano['ano'], \n",
    "#     values = chegada_ano['Chegadas']\n",
    "# )\n",
    "# fig.show()"
   ]
  },
  {
   "cell_type": "markdown",
   "id": "62df4f5a",
   "metadata": {},
   "source": [
    "#### _2.2_. Plotando gráfico com o Matplotlib:"
   ]
  },
  {
   "cell_type": "code",
   "execution_count": 102,
   "id": "2bcf4454",
   "metadata": {
    "scrolled": true
   },
   "outputs": [
    {
     "data": {
      "image/png": "[encoded data removed]",
      "text/plain": [
       "<Figure size 432x288 with 1 Axes>"
      ]
     },
     "metadata": {
      "needs_background": "light"
     },
     "output_type": "display_data"
    }
   ],
   "source": [
    "# gráfico de barra retratando a relção do número \n",
    "# total de turistas desembarcados por ano \n",
    "\n",
    "chegada_ano.plot(\n",
    "    title='Chegada de Turistas Internacionais por Ano', \n",
    "    kind='bar', \n",
    "    color= ['#FDA65D'],\n",
    "    x ='ano', xlabel='', \n",
    "    y = ['Chegadas'], ylabel='');"
   ]
  },
  {
   "cell_type": "markdown",
   "id": "87419f73",
   "metadata": {},
   "source": [
    "### _3_. Chegada de turistas no nordeste em cada mês"
   ]
  },
  {
   "cell_type": "markdown",
   "id": "6af51c85",
   "metadata": {},
   "source": [
    "#### _3.1.1_. Plotando gráfico de barra com o Plotly:"
   ]
  },
  {
   "cell_type": "code",
   "execution_count": 147,
   "id": "c3c03f1e",
   "metadata": {
    "scrolled": true
   },
   "outputs": [],
   "source": [
    "# gráfico de barra retratando a relção do número \n",
    "# total de turistas desembarcados em cada mês\n",
    "\n",
    "# fig = go.Figure()\n",
    "\n",
    "# fig.add_trace(go.Bar(\n",
    "#     x = chegada_mes['Mês'], \n",
    "#     y = chegada_mes['Chegadas']\n",
    "# ))\n",
    "\n",
    "# fig.show()"
   ]
  },
  {
   "cell_type": "markdown",
   "id": "84d1ccd4",
   "metadata": {},
   "source": [
    "#### _3.1.2_. Plotando gráfico de pizza com o Plotly:"
   ]
  },
  {
   "cell_type": "code",
   "execution_count": 148,
   "id": "5a9787cd",
   "metadata": {},
   "outputs": [],
   "source": [
    "# gráfico de pizza retratando o percentual do número \n",
    "# total de turistas desembarcados em cada mês \n",
    "\n",
    "# fig=px.pie(\n",
    "#     names= chegada_mes['Mês'], \n",
    "#     values = chegada_mes['Chegadas']\n",
    "#     )\n",
    "# fig.show()"
   ]
  },
  {
   "cell_type": "markdown",
   "id": "9f4ff322",
   "metadata": {},
   "source": [
    "#### _3.2_. Plotando gráfico com o Matplotlib:"
   ]
  },
  {
   "cell_type": "code",
   "execution_count": 92,
   "id": "84c70ed5",
   "metadata": {
    "scrolled": true
   },
   "outputs": [
    {
     "data": {
      "image/png": "[encoded data removed]",
      "text/plain": [
       "<Figure size 432x288 with 1 Axes>"
      ]
     },
     "metadata": {
      "needs_background": "light"
     },
     "output_type": "display_data"
    }
   ],
   "source": [
    "# gráfico de barra retratando a relção do número \n",
    "# total de turistas desembarcados em cada mês\n",
    "\n",
    "chegada_mes.plot(\n",
    "    title='Chegada de Turistas Internacionais por mês', \n",
    "    kind='bar', \n",
    "    color= ['#ff8243'],\n",
    "    x ='Mês', xlabel='',  \n",
    "    y = ['Chegadas'], ylabel='');"
   ]
  },
  {
   "cell_type": "markdown",
   "id": "41373fb5",
   "metadata": {},
   "source": [
    "### _4_. Chegada de turistas no nordeste por via"
   ]
  },
  {
   "cell_type": "markdown",
   "id": "845ee2ec",
   "metadata": {},
   "source": [
    "#### _4.1.1_. Plotando gráfico de barra com o Plotly:"
   ]
  },
  {
   "cell_type": "code",
   "execution_count": 149,
   "id": "2104e571",
   "metadata": {
    "scrolled": true
   },
   "outputs": [],
   "source": [
    "# gráfico de barra retratando a relção do número \n",
    "# total de turistas desembarcados por via de transporte\n",
    "\n",
    "# fig = go.Figure()\n",
    "\n",
    "# fig.add_trace(go.Bar(\n",
    "#     x = chegada_via['Via'], \n",
    "#     y = chegada_via['Chegadas']\n",
    "# ))\n",
    "\n",
    "# fig.show()"
   ]
  },
  {
   "cell_type": "markdown",
   "id": "1e7d2321",
   "metadata": {},
   "source": [
    "#### _4.1.2_. Plotando gráfico de pizza com o Plotly:"
   ]
  },
  {
   "cell_type": "code",
   "execution_count": 150,
   "id": "350ace35",
   "metadata": {},
   "outputs": [],
   "source": [
    "# gráfico de pizza retratando o percentual do número \n",
    "# total de turistas desembarcados por via \n",
    "\n",
    "# fig=px.pie(\n",
    "#     names= chegada_via['Via'], \n",
    "#     values = chegada_via['Chegadas']\n",
    "#     )\n",
    "# fig.show()"
   ]
  },
  {
   "cell_type": "markdown",
   "id": "28ab6847",
   "metadata": {},
   "source": [
    "#### _4.2_. Plotando gráfico com o Matplotlib:"
   ]
  },
  {
   "cell_type": "code",
   "execution_count": 98,
   "id": "e835188e",
   "metadata": {
    "scrolled": true
   },
   "outputs": [
    {
     "data": {
      "image/png": "[encoded data removed]",
      "text/plain": [
       "<Figure size 432x288 with 1 Axes>"
      ]
     },
     "metadata": {
      "needs_background": "light"
     },
     "output_type": "display_data"
    }
   ],
   "source": [
    "# gráfico de barra retratando a relção do número \n",
    "# total de turistas desembarcados por via de transporte\n",
    "\n",
    "chegada_via.plot(\n",
    "    title='Chegada de Turistas Internacionais por Via', \n",
    "    kind='bar',\n",
    "    color= ['#e26a2c'], \n",
    "    x ='Via', xlabel='', \n",
    "    y = ['Chegadas'], ylabel='');"
   ]
  },
  {
   "cell_type": "markdown",
   "id": "56a97b1d",
   "metadata": {},
   "source": [
    "### _5_. Chegada de turistas no nordeste por continente"
   ]
  },
  {
   "cell_type": "markdown",
   "id": "e4cf5145",
   "metadata": {},
   "source": [
    "#### _5.1.1_. Plotando gráfico de barra com o Plotly:"
   ]
  },
  {
   "cell_type": "code",
   "execution_count": 151,
   "id": "5ba0a910",
   "metadata": {
    "scrolled": false
   },
   "outputs": [],
   "source": [
    "# gráfico de barra retratando a relção do número total \n",
    "# de turistas desembarcados no nordeste por continente \n",
    "\n",
    "# fig = go.Figure()\n",
    "\n",
    "# fig.add_trace(go.Bar(\n",
    "#     x = chegada_continente['Continente'], \n",
    "#     y = chegada_continente['Chegadas']\n",
    "# ))\n",
    "\n",
    "# fig.show()"
   ]
  },
  {
   "cell_type": "markdown",
   "id": "2f5975a8",
   "metadata": {},
   "source": [
    "#### _5.1.2_. Plotando gráfico de pizza com o Plotly:"
   ]
  },
  {
   "cell_type": "code",
   "execution_count": 152,
   "id": "197af65d",
   "metadata": {},
   "outputs": [],
   "source": [
    "# gráfico de pizza retratando o percentual do número \n",
    "# total de turistas desembarcados por continente \n",
    "\n",
    "# fig=px.pie(\n",
    "#     names= chegada_continente['Continente'], \n",
    "#     values = chegada_continente['Chegadas']\n",
    "#    )\n",
    "# fig.show()"
   ]
  },
  {
   "cell_type": "markdown",
   "id": "fb15b3a9",
   "metadata": {},
   "source": [
    "#### _5.2_. Plotando gráfico com o Matplotlib:"
   ]
  },
  {
   "cell_type": "code",
   "execution_count": 97,
   "id": "1345bfeb",
   "metadata": {},
   "outputs": [
    {
     "data": {
      "image/png": "[encoded data removed]",
      "text/plain": [
       "<Figure size 432x288 with 1 Axes>"
      ]
     },
     "metadata": {
      "needs_background": "light"
     },
     "output_type": "display_data"
    }
   ],
   "source": [
    "# gráfico de barra retratando a relção do número total \n",
    "# de turistas desembarcados no nordeste por continente \n",
    "\n",
    "chegada_continente.plot(\n",
    "    title='Chegada de Turistas Internacionais por Continente', \n",
    "    kind='bar',\n",
    "    color= ['#6F0765'],\n",
    "    x ='Continente', xlabel='', \n",
    "    y = ['Chegadas'], ylabel='');"
   ]
  },
  {
   "cell_type": "markdown",
   "id": "c7d72c94",
   "metadata": {},
   "source": [
    "## Relacionando Vários Elementos da Base"
   ]
  },
  {
   "cell_type": "code",
   "execution_count": 23,
   "id": "b5e1269d",
   "metadata": {},
   "outputs": [
    {
     "data": {
      "text/html": [
       "<div>\n",
       "<style scoped>\n",
       "    .dataframe tbody tr th:only-of-type {\n",
       "        vertical-align: middle;\n",
       "    }\n",
       "\n",
       "    .dataframe tbody tr th {\n",
       "        vertical-align: top;\n",
       "    }\n",
       "\n",
       "    .dataframe thead th {\n",
       "        text-align: right;\n",
       "    }\n",
       "</style>\n",
       "<table border=\"1\" class=\"dataframe\">\n",
       "  <thead>\n",
       "    <tr style=\"text-align: right;\">\n",
       "      <th></th>\n",
       "      <th>Estado</th>\n",
       "      <th>2018</th>\n",
       "      <th>2019</th>\n",
       "      <th>2020</th>\n",
       "      <th>2021</th>\n",
       "    </tr>\n",
       "  </thead>\n",
       "  <tbody>\n",
       "    <tr>\n",
       "      <th>0</th>\n",
       "      <td>Bahia</td>\n",
       "      <td>148637</td>\n",
       "      <td>152221</td>\n",
       "      <td>41201</td>\n",
       "      <td>7530</td>\n",
       "    </tr>\n",
       "    <tr>\n",
       "      <th>1</th>\n",
       "      <td>Ceará</td>\n",
       "      <td>107420</td>\n",
       "      <td>112920</td>\n",
       "      <td>22271</td>\n",
       "      <td>17045</td>\n",
       "    </tr>\n",
       "    <tr>\n",
       "      <th>2</th>\n",
       "      <td>Pernambuco</td>\n",
       "      <td>121169</td>\n",
       "      <td>111920</td>\n",
       "      <td>23734</td>\n",
       "      <td>7650</td>\n",
       "    </tr>\n",
       "    <tr>\n",
       "      <th>3</th>\n",
       "      <td>Rio Grande do Norte</td>\n",
       "      <td>28672</td>\n",
       "      <td>27888</td>\n",
       "      <td>8516</td>\n",
       "      <td>2021</td>\n",
       "    </tr>\n",
       "  </tbody>\n",
       "</table>\n",
       "</div>"
      ],
      "text/plain": [
       "                Estado    2018    2019   2020   2021\n",
       "0                Bahia  148637  152221  41201   7530\n",
       "1                Ceará  107420  112920  22271  17045\n",
       "2           Pernambuco  121169  111920  23734   7650\n",
       "3  Rio Grande do Norte   28672   27888   8516   2021"
      ]
     },
     "execution_count": 23,
     "metadata": {},
     "output_type": "execute_result"
    }
   ],
   "source": [
    "# Leitura da base que relacioana o número total \n",
    "# de turistas que chegam em cada estado do \n",
    "# nordeste por ano de chegada\n",
    "\n",
    "turismo_estado_ano = pd.read_csv('turismo-internacional-estado.csv')\n",
    "turismo_estado_ano"
   ]
  },
  {
   "cell_type": "markdown",
   "id": "fdc0e0a5",
   "metadata": {},
   "source": [
    "### Análise Gráfica"
   ]
  },
  {
   "cell_type": "code",
   "execution_count": 153,
   "id": "462434f4",
   "metadata": {},
   "outputs": [],
   "source": [
    "# gráfico para analizar chegada de turistas \n",
    "# nos estados do nordeste em cada ano\n",
    "\n",
    "# trace1 = go.Bar(x = turismo_estado_ano['Estado'],\n",
    "#                 y = turismo_estado_ano['2018'],\n",
    "#                 name = '2018',\n",
    "#                 marker = {'color': '#ff9f43'})\n",
    "# trace2 = go.Bar(x = turismo_estado_ano['Estado'],\n",
    "#                 y = turismo_estado_ano['2019'],\n",
    "#                 name = '2019',\n",
    "#                 marker = {'color': '#e67e22'})\n",
    "# trace3 = go.Bar(x = turismo_estado_ano['Estado'],\n",
    "#                 y = turismo_estado_ano['2020'],\n",
    "#                 name = '2020',\n",
    "#                 marker = {'color': '#ff8243'})\n",
    "# trace4 = go.Bar(x = turismo_estado_ano['Estado'],\n",
    "#                 y = turismo_estado_ano['2021'],\n",
    "#                 name = '2021',\n",
    "#                 marker = {'color': '#e74c3c'})\n",
    "# data = [trace1, trace2, trace3, trace4]\n",
    "# py.iplot(data)"
   ]
  },
  {
   "cell_type": "code",
   "execution_count": 122,
   "id": "ebc91d44",
   "metadata": {},
   "outputs": [
    {
     "data": {
      "image/png": "[encoded data removed]",
      "text/plain": [
       "<Figure size 432x288 with 1 Axes>"
      ]
     },
     "metadata": {
      "needs_background": "light"
     },
     "output_type": "display_data"
    }
   ],
   "source": [
    "turismo_estado_ano.plot(\n",
    "    title='Chegada de Turistas nos Estado por Ano', \n",
    "    kind='bar', \n",
    "    color= ['#ff9f43', '#e67e22', '#ff8243','#e74c3c'],\n",
    "    x ='Estado', xlabel='', \n",
    "    y = ['2018', '2019', '2020', '2021'], ylabel='');"
   ]
  },
  {
   "cell_type": "code",
   "execution_count": 26,
   "id": "eff72f0a",
   "metadata": {
    "scrolled": true
   },
   "outputs": [
    {
     "data": {
      "text/html": [
       "<div>\n",
       "<style scoped>\n",
       "    .dataframe tbody tr th:only-of-type {\n",
       "        vertical-align: middle;\n",
       "    }\n",
       "\n",
       "    .dataframe tbody tr th {\n",
       "        vertical-align: top;\n",
       "    }\n",
       "\n",
       "    .dataframe thead th {\n",
       "        text-align: right;\n",
       "    }\n",
       "</style>\n",
       "<table border=\"1\" class=\"dataframe\">\n",
       "  <thead>\n",
       "    <tr style=\"text-align: right;\">\n",
       "      <th></th>\n",
       "      <th>UF</th>\n",
       "      <th>ano</th>\n",
       "      <th>Chegadas</th>\n",
       "    </tr>\n",
       "  </thead>\n",
       "  <tbody>\n",
       "    <tr>\n",
       "      <th>0</th>\n",
       "      <td>Bahia</td>\n",
       "      <td>2018</td>\n",
       "      <td>148637</td>\n",
       "    </tr>\n",
       "    <tr>\n",
       "      <th>1</th>\n",
       "      <td>Bahia</td>\n",
       "      <td>2019</td>\n",
       "      <td>152221</td>\n",
       "    </tr>\n",
       "    <tr>\n",
       "      <th>2</th>\n",
       "      <td>Bahia</td>\n",
       "      <td>2020</td>\n",
       "      <td>41201</td>\n",
       "    </tr>\n",
       "    <tr>\n",
       "      <th>3</th>\n",
       "      <td>Bahia</td>\n",
       "      <td>2021</td>\n",
       "      <td>7530</td>\n",
       "    </tr>\n",
       "    <tr>\n",
       "      <th>4</th>\n",
       "      <td>Ceará</td>\n",
       "      <td>2018</td>\n",
       "      <td>107420</td>\n",
       "    </tr>\n",
       "    <tr>\n",
       "      <th>5</th>\n",
       "      <td>Ceará</td>\n",
       "      <td>2019</td>\n",
       "      <td>112920</td>\n",
       "    </tr>\n",
       "    <tr>\n",
       "      <th>6</th>\n",
       "      <td>Ceará</td>\n",
       "      <td>2020</td>\n",
       "      <td>22271</td>\n",
       "    </tr>\n",
       "    <tr>\n",
       "      <th>7</th>\n",
       "      <td>Ceará</td>\n",
       "      <td>2021</td>\n",
       "      <td>17045</td>\n",
       "    </tr>\n",
       "    <tr>\n",
       "      <th>8</th>\n",
       "      <td>Pernambuco</td>\n",
       "      <td>2018</td>\n",
       "      <td>121169</td>\n",
       "    </tr>\n",
       "    <tr>\n",
       "      <th>9</th>\n",
       "      <td>Pernambuco</td>\n",
       "      <td>2019</td>\n",
       "      <td>111920</td>\n",
       "    </tr>\n",
       "    <tr>\n",
       "      <th>10</th>\n",
       "      <td>Pernambuco</td>\n",
       "      <td>2020</td>\n",
       "      <td>23734</td>\n",
       "    </tr>\n",
       "    <tr>\n",
       "      <th>11</th>\n",
       "      <td>Pernambuco</td>\n",
       "      <td>2021</td>\n",
       "      <td>7650</td>\n",
       "    </tr>\n",
       "    <tr>\n",
       "      <th>12</th>\n",
       "      <td>Rio Grande do Norte</td>\n",
       "      <td>2018</td>\n",
       "      <td>28672</td>\n",
       "    </tr>\n",
       "    <tr>\n",
       "      <th>13</th>\n",
       "      <td>Rio Grande do Norte</td>\n",
       "      <td>2019</td>\n",
       "      <td>27888</td>\n",
       "    </tr>\n",
       "    <tr>\n",
       "      <th>14</th>\n",
       "      <td>Rio Grande do Norte</td>\n",
       "      <td>2020</td>\n",
       "      <td>8516</td>\n",
       "    </tr>\n",
       "    <tr>\n",
       "      <th>15</th>\n",
       "      <td>Rio Grande do Norte</td>\n",
       "      <td>2021</td>\n",
       "      <td>2021</td>\n",
       "    </tr>\n",
       "  </tbody>\n",
       "</table>\n",
       "</div>"
      ],
      "text/plain": [
       "                     UF   ano  Chegadas\n",
       "0                 Bahia  2018    148637\n",
       "1                 Bahia  2019    152221\n",
       "2                 Bahia  2020     41201\n",
       "3                 Bahia  2021      7530\n",
       "4                 Ceará  2018    107420\n",
       "5                 Ceará  2019    112920\n",
       "6                 Ceará  2020     22271\n",
       "7                 Ceará  2021     17045\n",
       "8            Pernambuco  2018    121169\n",
       "9            Pernambuco  2019    111920\n",
       "10           Pernambuco  2020     23734\n",
       "11           Pernambuco  2021      7650\n",
       "12  Rio Grande do Norte  2018     28672\n",
       "13  Rio Grande do Norte  2019     27888\n",
       "14  Rio Grande do Norte  2020      8516\n",
       "15  Rio Grande do Norte  2021      2021"
      ]
     },
     "execution_count": 26,
     "metadata": {},
     "output_type": "execute_result"
    }
   ],
   "source": [
    "# Relação da chegada de turistas em cada estado por ano:\n",
    "chegada_estado_ano = turismo_18_19_20_21.groupby(['UF', \n",
    "                'ano'])['Chegadas'].sum().reset_index()\n",
    "chegada_estado_ano"
   ]
  },
  {
   "cell_type": "code",
   "execution_count": 27,
   "id": "d4887d21",
   "metadata": {},
   "outputs": [
    {
     "data": {
      "text/html": [
       "<div>\n",
       "<style scoped>\n",
       "    .dataframe tbody tr th:only-of-type {\n",
       "        vertical-align: middle;\n",
       "    }\n",
       "\n",
       "    .dataframe tbody tr th {\n",
       "        vertical-align: top;\n",
       "    }\n",
       "\n",
       "    .dataframe thead th {\n",
       "        text-align: right;\n",
       "    }\n",
       "</style>\n",
       "<table border=\"1\" class=\"dataframe\">\n",
       "  <thead>\n",
       "    <tr style=\"text-align: right;\">\n",
       "      <th></th>\n",
       "      <th>UF</th>\n",
       "      <th>Via</th>\n",
       "      <th>Chegadas</th>\n",
       "    </tr>\n",
       "  </thead>\n",
       "  <tbody>\n",
       "    <tr>\n",
       "      <th>0</th>\n",
       "      <td>Bahia</td>\n",
       "      <td>Aérea</td>\n",
       "      <td>331540</td>\n",
       "    </tr>\n",
       "    <tr>\n",
       "      <th>1</th>\n",
       "      <td>Bahia</td>\n",
       "      <td>Marítima</td>\n",
       "      <td>18042</td>\n",
       "    </tr>\n",
       "    <tr>\n",
       "      <th>2</th>\n",
       "      <td>Ceará</td>\n",
       "      <td>Aérea</td>\n",
       "      <td>249823</td>\n",
       "    </tr>\n",
       "    <tr>\n",
       "      <th>3</th>\n",
       "      <td>Ceará</td>\n",
       "      <td>Marítima</td>\n",
       "      <td>9822</td>\n",
       "    </tr>\n",
       "    <tr>\n",
       "      <th>4</th>\n",
       "      <td>Pernambuco</td>\n",
       "      <td>Aérea</td>\n",
       "      <td>245023</td>\n",
       "    </tr>\n",
       "    <tr>\n",
       "      <th>5</th>\n",
       "      <td>Pernambuco</td>\n",
       "      <td>Marítima</td>\n",
       "      <td>19445</td>\n",
       "    </tr>\n",
       "    <tr>\n",
       "      <th>6</th>\n",
       "      <td>Rio Grande do Norte</td>\n",
       "      <td>Aérea</td>\n",
       "      <td>65209</td>\n",
       "    </tr>\n",
       "    <tr>\n",
       "      <th>7</th>\n",
       "      <td>Rio Grande do Norte</td>\n",
       "      <td>Marítima</td>\n",
       "      <td>1888</td>\n",
       "    </tr>\n",
       "  </tbody>\n",
       "</table>\n",
       "</div>"
      ],
      "text/plain": [
       "                    UF       Via  Chegadas\n",
       "0                Bahia     Aérea    331540\n",
       "1                Bahia  Marítima     18042\n",
       "2                Ceará     Aérea    249823\n",
       "3                Ceará  Marítima      9822\n",
       "4           Pernambuco     Aérea    245023\n",
       "5           Pernambuco  Marítima     19445\n",
       "6  Rio Grande do Norte     Aérea     65209\n",
       "7  Rio Grande do Norte  Marítima      1888"
      ]
     },
     "execution_count": 27,
     "metadata": {},
     "output_type": "execute_result"
    }
   ],
   "source": [
    "# Relação da chegada de turistas com cada estado por via de transporte:\n",
    "chegada_estado_via = turismo_18_19_20_21.groupby(['UF', \n",
    "                'Via'])['Chegadas'].sum().reset_index()\n",
    "chegada_estado_via"
   ]
  },
  {
   "cell_type": "code",
   "execution_count": 28,
   "id": "9f35942f",
   "metadata": {
    "scrolled": true
   },
   "outputs": [
    {
     "data": {
      "text/html": [
       "<div>\n",
       "<style scoped>\n",
       "    .dataframe tbody tr th:only-of-type {\n",
       "        vertical-align: middle;\n",
       "    }\n",
       "\n",
       "    .dataframe tbody tr th {\n",
       "        vertical-align: top;\n",
       "    }\n",
       "\n",
       "    .dataframe thead th {\n",
       "        text-align: right;\n",
       "    }\n",
       "</style>\n",
       "<table border=\"1\" class=\"dataframe\">\n",
       "  <thead>\n",
       "    <tr style=\"text-align: right;\">\n",
       "      <th></th>\n",
       "      <th>cod mes</th>\n",
       "      <th>Mês</th>\n",
       "      <th>ano</th>\n",
       "      <th>Chegadas</th>\n",
       "    </tr>\n",
       "  </thead>\n",
       "  <tbody>\n",
       "    <tr>\n",
       "      <th>0</th>\n",
       "      <td>1</td>\n",
       "      <td>janeiro</td>\n",
       "      <td>2018</td>\n",
       "      <td>44484</td>\n",
       "    </tr>\n",
       "    <tr>\n",
       "      <th>1</th>\n",
       "      <td>1</td>\n",
       "      <td>janeiro</td>\n",
       "      <td>2019</td>\n",
       "      <td>45401</td>\n",
       "    </tr>\n",
       "    <tr>\n",
       "      <th>2</th>\n",
       "      <td>1</td>\n",
       "      <td>janeiro</td>\n",
       "      <td>2020</td>\n",
       "      <td>35104</td>\n",
       "    </tr>\n",
       "    <tr>\n",
       "      <th>3</th>\n",
       "      <td>1</td>\n",
       "      <td>janeiro</td>\n",
       "      <td>2021</td>\n",
       "      <td>2924</td>\n",
       "    </tr>\n",
       "    <tr>\n",
       "      <th>4</th>\n",
       "      <td>2</td>\n",
       "      <td>fevereiro</td>\n",
       "      <td>2018</td>\n",
       "      <td>39328</td>\n",
       "    </tr>\n",
       "    <tr>\n",
       "      <th>5</th>\n",
       "      <td>2</td>\n",
       "      <td>fevereiro</td>\n",
       "      <td>2019</td>\n",
       "      <td>43585</td>\n",
       "    </tr>\n",
       "    <tr>\n",
       "      <th>6</th>\n",
       "      <td>2</td>\n",
       "      <td>fevereiro</td>\n",
       "      <td>2020</td>\n",
       "      <td>36882</td>\n",
       "    </tr>\n",
       "    <tr>\n",
       "      <th>7</th>\n",
       "      <td>2</td>\n",
       "      <td>fevereiro</td>\n",
       "      <td>2021</td>\n",
       "      <td>80</td>\n",
       "    </tr>\n",
       "    <tr>\n",
       "      <th>8</th>\n",
       "      <td>3</td>\n",
       "      <td>março</td>\n",
       "      <td>2018</td>\n",
       "      <td>34079</td>\n",
       "    </tr>\n",
       "    <tr>\n",
       "      <th>9</th>\n",
       "      <td>3</td>\n",
       "      <td>março</td>\n",
       "      <td>2019</td>\n",
       "      <td>28489</td>\n",
       "    </tr>\n",
       "    <tr>\n",
       "      <th>10</th>\n",
       "      <td>3</td>\n",
       "      <td>março</td>\n",
       "      <td>2020</td>\n",
       "      <td>13686</td>\n",
       "    </tr>\n",
       "    <tr>\n",
       "      <th>11</th>\n",
       "      <td>3</td>\n",
       "      <td>março</td>\n",
       "      <td>2021</td>\n",
       "      <td>12</td>\n",
       "    </tr>\n",
       "    <tr>\n",
       "      <th>12</th>\n",
       "      <td>4</td>\n",
       "      <td>abril</td>\n",
       "      <td>2018</td>\n",
       "      <td>22173</td>\n",
       "    </tr>\n",
       "    <tr>\n",
       "      <th>13</th>\n",
       "      <td>4</td>\n",
       "      <td>abril</td>\n",
       "      <td>2019</td>\n",
       "      <td>27637</td>\n",
       "    </tr>\n",
       "    <tr>\n",
       "      <th>14</th>\n",
       "      <td>4</td>\n",
       "      <td>abril</td>\n",
       "      <td>2020</td>\n",
       "      <td>3</td>\n",
       "    </tr>\n",
       "    <tr>\n",
       "      <th>15</th>\n",
       "      <td>4</td>\n",
       "      <td>abril</td>\n",
       "      <td>2021</td>\n",
       "      <td>357</td>\n",
       "    </tr>\n",
       "    <tr>\n",
       "      <th>16</th>\n",
       "      <td>5</td>\n",
       "      <td>maio</td>\n",
       "      <td>2018</td>\n",
       "      <td>13953</td>\n",
       "    </tr>\n",
       "    <tr>\n",
       "      <th>17</th>\n",
       "      <td>5</td>\n",
       "      <td>maio</td>\n",
       "      <td>2019</td>\n",
       "      <td>15236</td>\n",
       "    </tr>\n",
       "    <tr>\n",
       "      <th>18</th>\n",
       "      <td>5</td>\n",
       "      <td>maio</td>\n",
       "      <td>2020</td>\n",
       "      <td>0</td>\n",
       "    </tr>\n",
       "    <tr>\n",
       "      <th>19</th>\n",
       "      <td>5</td>\n",
       "      <td>maio</td>\n",
       "      <td>2021</td>\n",
       "      <td>641</td>\n",
       "    </tr>\n",
       "    <tr>\n",
       "      <th>20</th>\n",
       "      <td>6</td>\n",
       "      <td>junho</td>\n",
       "      <td>2018</td>\n",
       "      <td>16110</td>\n",
       "    </tr>\n",
       "    <tr>\n",
       "      <th>21</th>\n",
       "      <td>6</td>\n",
       "      <td>junho</td>\n",
       "      <td>2019</td>\n",
       "      <td>22150</td>\n",
       "    </tr>\n",
       "    <tr>\n",
       "      <th>22</th>\n",
       "      <td>6</td>\n",
       "      <td>junho</td>\n",
       "      <td>2020</td>\n",
       "      <td>0</td>\n",
       "    </tr>\n",
       "    <tr>\n",
       "      <th>23</th>\n",
       "      <td>6</td>\n",
       "      <td>junho</td>\n",
       "      <td>2021</td>\n",
       "      <td>709</td>\n",
       "    </tr>\n",
       "    <tr>\n",
       "      <th>24</th>\n",
       "      <td>7</td>\n",
       "      <td>julho</td>\n",
       "      <td>2018</td>\n",
       "      <td>31439</td>\n",
       "    </tr>\n",
       "    <tr>\n",
       "      <th>25</th>\n",
       "      <td>7</td>\n",
       "      <td>julho</td>\n",
       "      <td>2019</td>\n",
       "      <td>32551</td>\n",
       "    </tr>\n",
       "    <tr>\n",
       "      <th>26</th>\n",
       "      <td>7</td>\n",
       "      <td>julho</td>\n",
       "      <td>2020</td>\n",
       "      <td>0</td>\n",
       "    </tr>\n",
       "    <tr>\n",
       "      <th>27</th>\n",
       "      <td>7</td>\n",
       "      <td>julho</td>\n",
       "      <td>2021</td>\n",
       "      <td>2470</td>\n",
       "    </tr>\n",
       "    <tr>\n",
       "      <th>28</th>\n",
       "      <td>8</td>\n",
       "      <td>agosto</td>\n",
       "      <td>2018</td>\n",
       "      <td>33224</td>\n",
       "    </tr>\n",
       "    <tr>\n",
       "      <th>29</th>\n",
       "      <td>8</td>\n",
       "      <td>agosto</td>\n",
       "      <td>2019</td>\n",
       "      <td>37123</td>\n",
       "    </tr>\n",
       "    <tr>\n",
       "      <th>30</th>\n",
       "      <td>8</td>\n",
       "      <td>agosto</td>\n",
       "      <td>2020</td>\n",
       "      <td>412</td>\n",
       "    </tr>\n",
       "    <tr>\n",
       "      <th>31</th>\n",
       "      <td>8</td>\n",
       "      <td>agosto</td>\n",
       "      <td>2021</td>\n",
       "      <td>1905</td>\n",
       "    </tr>\n",
       "    <tr>\n",
       "      <th>32</th>\n",
       "      <td>9</td>\n",
       "      <td>setembro</td>\n",
       "      <td>2018</td>\n",
       "      <td>35441</td>\n",
       "    </tr>\n",
       "    <tr>\n",
       "      <th>33</th>\n",
       "      <td>9</td>\n",
       "      <td>setembro</td>\n",
       "      <td>2019</td>\n",
       "      <td>30031</td>\n",
       "    </tr>\n",
       "    <tr>\n",
       "      <th>34</th>\n",
       "      <td>9</td>\n",
       "      <td>setembro</td>\n",
       "      <td>2020</td>\n",
       "      <td>571</td>\n",
       "    </tr>\n",
       "    <tr>\n",
       "      <th>35</th>\n",
       "      <td>9</td>\n",
       "      <td>setembro</td>\n",
       "      <td>2021</td>\n",
       "      <td>1892</td>\n",
       "    </tr>\n",
       "    <tr>\n",
       "      <th>36</th>\n",
       "      <td>10</td>\n",
       "      <td>outubro</td>\n",
       "      <td>2018</td>\n",
       "      <td>35688</td>\n",
       "    </tr>\n",
       "    <tr>\n",
       "      <th>37</th>\n",
       "      <td>10</td>\n",
       "      <td>outubro</td>\n",
       "      <td>2019</td>\n",
       "      <td>28158</td>\n",
       "    </tr>\n",
       "    <tr>\n",
       "      <th>38</th>\n",
       "      <td>10</td>\n",
       "      <td>outubro</td>\n",
       "      <td>2020</td>\n",
       "      <td>2371</td>\n",
       "    </tr>\n",
       "    <tr>\n",
       "      <th>39</th>\n",
       "      <td>10</td>\n",
       "      <td>outubro</td>\n",
       "      <td>2021</td>\n",
       "      <td>6981</td>\n",
       "    </tr>\n",
       "    <tr>\n",
       "      <th>40</th>\n",
       "      <td>11</td>\n",
       "      <td>novembro</td>\n",
       "      <td>2018</td>\n",
       "      <td>43928</td>\n",
       "    </tr>\n",
       "    <tr>\n",
       "      <th>41</th>\n",
       "      <td>11</td>\n",
       "      <td>novembro</td>\n",
       "      <td>2019</td>\n",
       "      <td>42687</td>\n",
       "    </tr>\n",
       "    <tr>\n",
       "      <th>42</th>\n",
       "      <td>11</td>\n",
       "      <td>novembro</td>\n",
       "      <td>2020</td>\n",
       "      <td>2401</td>\n",
       "    </tr>\n",
       "    <tr>\n",
       "      <th>43</th>\n",
       "      <td>11</td>\n",
       "      <td>novembro</td>\n",
       "      <td>2021</td>\n",
       "      <td>7219</td>\n",
       "    </tr>\n",
       "    <tr>\n",
       "      <th>44</th>\n",
       "      <td>12</td>\n",
       "      <td>dezembro</td>\n",
       "      <td>2018</td>\n",
       "      <td>56051</td>\n",
       "    </tr>\n",
       "    <tr>\n",
       "      <th>45</th>\n",
       "      <td>12</td>\n",
       "      <td>dezembro</td>\n",
       "      <td>2019</td>\n",
       "      <td>51901</td>\n",
       "    </tr>\n",
       "    <tr>\n",
       "      <th>46</th>\n",
       "      <td>12</td>\n",
       "      <td>dezembro</td>\n",
       "      <td>2020</td>\n",
       "      <td>4292</td>\n",
       "    </tr>\n",
       "    <tr>\n",
       "      <th>47</th>\n",
       "      <td>12</td>\n",
       "      <td>dezembro</td>\n",
       "      <td>2021</td>\n",
       "      <td>9056</td>\n",
       "    </tr>\n",
       "  </tbody>\n",
       "</table>\n",
       "</div>"
      ],
      "text/plain": [
       "    cod mes        Mês   ano  Chegadas\n",
       "0         1    janeiro  2018     44484\n",
       "1         1    janeiro  2019     45401\n",
       "2         1    janeiro  2020     35104\n",
       "3         1    janeiro  2021      2924\n",
       "4         2  fevereiro  2018     39328\n",
       "5         2  fevereiro  2019     43585\n",
       "6         2  fevereiro  2020     36882\n",
       "7         2  fevereiro  2021        80\n",
       "8         3      março  2018     34079\n",
       "9         3      março  2019     28489\n",
       "10        3      março  2020     13686\n",
       "11        3      março  2021        12\n",
       "12        4      abril  2018     22173\n",
       "13        4      abril  2019     27637\n",
       "14        4      abril  2020         3\n",
       "15        4      abril  2021       357\n",
       "16        5       maio  2018     13953\n",
       "17        5       maio  2019     15236\n",
       "18        5       maio  2020         0\n",
       "19        5       maio  2021       641\n",
       "20        6      junho  2018     16110\n",
       "21        6      junho  2019     22150\n",
       "22        6      junho  2020         0\n",
       "23        6      junho  2021       709\n",
       "24        7      julho  2018     31439\n",
       "25        7      julho  2019     32551\n",
       "26        7      julho  2020         0\n",
       "27        7      julho  2021      2470\n",
       "28        8     agosto  2018     33224\n",
       "29        8     agosto  2019     37123\n",
       "30        8     agosto  2020       412\n",
       "31        8     agosto  2021      1905\n",
       "32        9   setembro  2018     35441\n",
       "33        9   setembro  2019     30031\n",
       "34        9   setembro  2020       571\n",
       "35        9   setembro  2021      1892\n",
       "36       10    outubro  2018     35688\n",
       "37       10    outubro  2019     28158\n",
       "38       10    outubro  2020      2371\n",
       "39       10    outubro  2021      6981\n",
       "40       11   novembro  2018     43928\n",
       "41       11   novembro  2019     42687\n",
       "42       11   novembro  2020      2401\n",
       "43       11   novembro  2021      7219\n",
       "44       12   dezembro  2018     56051\n",
       "45       12   dezembro  2019     51901\n",
       "46       12   dezembro  2020      4292\n",
       "47       12   dezembro  2021      9056"
      ]
     },
     "execution_count": 28,
     "metadata": {},
     "output_type": "execute_result"
    }
   ],
   "source": [
    "# Relação da chegada de turistas pelos meses de cada ano:\n",
    "chegada_ano_mes = turismo_18_19_20_21.groupby(['cod mes', \n",
    "            'Mês', 'ano'])['Chegadas'].sum().reset_index()\n",
    "chegada_ano_mes"
   ]
  },
  {
   "cell_type": "markdown",
   "id": "4ee7c673",
   "metadata": {},
   "source": [
    "## Correlação"
   ]
  },
  {
   "cell_type": "markdown",
   "id": "0c978727",
   "metadata": {},
   "source": [
    "### Correlação da chegada de turistas durante a pandemia da COVID:\n",
    "\n",
    "Apartir das análises feitas com os dados da chegada de turistas internacionais, nos estados do nordeste, durantes os anos de 2018 até 2021, existe uma notável redução no número de chegada entre os anos de 2020 e 2021, periodo em que se iniciou a pandemia. Assim, é possível concluir\n",
    "\n",
    "\n",
    "que se deve ao fato \n",
    "\n",
    "inversamente correlacionado com o aumento de casos de COVID"
   ]
  },
  {
   "cell_type": "code",
   "execution_count": null,
   "id": "28a5232f",
   "metadata": {},
   "outputs": [],
   "source": []
  }
 ],
 "metadata": {
  "kernelspec": {
   "display_name": "Python 3",
   "language": "python",
   "name": "python3"
  },
  "language_info": {
   "codemirror_mode": {
    "name": "ipython",
    "version": 3
   },
   "file_extension": ".py",
   "mimetype": "text/x-python",
   "name": "python",
   "nbconvert_exporter": "python",
   "pygments_lexer": "ipython3",
   "version": "3.6.9"
  }
 },
 "nbformat": 4,
 "nbformat_minor": 5
}
